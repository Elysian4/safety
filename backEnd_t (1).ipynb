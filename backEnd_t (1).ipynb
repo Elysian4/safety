{
 "cells": [
  {
   "cell_type": "code",
   "execution_count": 1,
   "id": "020daf74",
   "metadata": {},
   "outputs": [
    {
     "name": "stdout",
     "output_type": "stream",
     "text": [
      "Requirement already satisfied: speechbrain in c:\\users\\kuksh\\anaconda3\\lib\\site-packages (1.0.2)\n",
      "Requirement already satisfied: hyperpyyaml in c:\\users\\kuksh\\anaconda3\\lib\\site-packages (from speechbrain) (1.2.2)\n",
      "Requirement already satisfied: joblib in c:\\users\\kuksh\\anaconda3\\lib\\site-packages (from speechbrain) (1.4.2)\n",
      "Requirement already satisfied: numpy in c:\\users\\kuksh\\anaconda3\\lib\\site-packages (from speechbrain) (1.21.6)\n",
      "Requirement already satisfied: packaging in c:\\users\\kuksh\\anaconda3\\lib\\site-packages (from speechbrain) (24.1)\n",
      "Requirement already satisfied: scipy in c:\\users\\kuksh\\anaconda3\\lib\\site-packages (from speechbrain) (1.10.1)\n",
      "Requirement already satisfied: sentencepiece in c:\\users\\kuksh\\anaconda3\\lib\\site-packages (from speechbrain) (0.2.0)\n",
      "Requirement already satisfied: torch>=1.9 in c:\\users\\kuksh\\anaconda3\\lib\\site-packages (from speechbrain) (2.6.0)\n",
      "Requirement already satisfied: torchaudio in c:\\users\\kuksh\\anaconda3\\lib\\site-packages (from speechbrain) (2.6.0+cpu)\n",
      "Requirement already satisfied: tqdm in c:\\users\\kuksh\\anaconda3\\lib\\site-packages (from speechbrain) (4.66.5)\n",
      "Requirement already satisfied: huggingface-hub in c:\\users\\kuksh\\anaconda3\\lib\\site-packages (from speechbrain) (0.26.2)\n",
      "Requirement already satisfied: filelock in c:\\users\\kuksh\\anaconda3\\lib\\site-packages (from torch>=1.9->speechbrain) (3.6.0)\n",
      "Requirement already satisfied: typing-extensions>=4.10.0 in c:\\users\\kuksh\\anaconda3\\lib\\site-packages (from torch>=1.9->speechbrain) (4.12.2)\n",
      "Requirement already satisfied: networkx in c:\\users\\kuksh\\anaconda3\\lib\\site-packages (from torch>=1.9->speechbrain) (2.7.1)\n",
      "Requirement already satisfied: jinja2 in c:\\users\\kuksh\\anaconda3\\lib\\site-packages (from torch>=1.9->speechbrain) (2.11.3)\n",
      "Requirement already satisfied: fsspec in c:\\users\\kuksh\\anaconda3\\lib\\site-packages (from torch>=1.9->speechbrain) (2024.9.0)\n",
      "Requirement already satisfied: sympy==1.13.1 in c:\\users\\kuksh\\anaconda3\\lib\\site-packages (from torch>=1.9->speechbrain) (1.13.1)\n",
      "Requirement already satisfied: mpmath<1.4,>=1.1.0 in c:\\users\\kuksh\\anaconda3\\lib\\site-packages (from sympy==1.13.1->torch>=1.9->speechbrain) (1.2.1)\n",
      "Requirement already satisfied: pyyaml>=5.1 in c:\\users\\kuksh\\anaconda3\\lib\\site-packages (from huggingface-hub->speechbrain) (6.0)\n",
      "Requirement already satisfied: requests in c:\\users\\kuksh\\anaconda3\\lib\\site-packages (from huggingface-hub->speechbrain) (2.32.3)\n",
      "Requirement already satisfied: colorama in c:\\users\\kuksh\\anaconda3\\lib\\site-packages (from tqdm->speechbrain) (0.4.4)\n",
      "Requirement already satisfied: ruamel.yaml>=0.17.28 in c:\\users\\kuksh\\anaconda3\\lib\\site-packages (from hyperpyyaml->speechbrain) (0.18.10)\n",
      "Requirement already satisfied: ruamel.yaml.clib>=0.2.7 in c:\\users\\kuksh\\anaconda3\\lib\\site-packages (from ruamel.yaml>=0.17.28->hyperpyyaml->speechbrain) (0.2.12)\n",
      "Requirement already satisfied: MarkupSafe>=0.23 in c:\\users\\kuksh\\anaconda3\\lib\\site-packages (from jinja2->torch>=1.9->speechbrain) (2.0.1)\n",
      "Requirement already satisfied: charset-normalizer<4,>=2 in c:\\users\\kuksh\\anaconda3\\lib\\site-packages (from requests->huggingface-hub->speechbrain) (2.0.4)\n",
      "Requirement already satisfied: idna<4,>=2.5 in c:\\users\\kuksh\\anaconda3\\lib\\site-packages (from requests->huggingface-hub->speechbrain) (3.3)\n",
      "Requirement already satisfied: urllib3<3,>=1.21.1 in c:\\users\\kuksh\\anaconda3\\lib\\site-packages (from requests->huggingface-hub->speechbrain) (1.26.9)\n",
      "Requirement already satisfied: certifi>=2017.4.17 in c:\\users\\kuksh\\anaconda3\\lib\\site-packages (from requests->huggingface-hub->speechbrain) (2021.10.8)\n",
      "Note: you may need to restart the kernel to use updated packages.\n"
     ]
    },
    {
     "name": "stderr",
     "output_type": "stream",
     "text": [
      "WARNING: Ignoring invalid distribution -pencv-python (c:\\users\\kuksh\\anaconda3\\lib\\site-packages)\n",
      "WARNING: Ignoring invalid distribution -pencv-python (c:\\users\\kuksh\\anaconda3\\lib\\site-packages)\n",
      "WARNING: Ignoring invalid distribution -pencv-python (c:\\users\\kuksh\\anaconda3\\lib\\site-packages)\n"
     ]
    }
   ],
   "source": [
    "pip install speechbrain"
   ]
  },
  {
   "cell_type": "code",
   "execution_count": 33,
   "id": "cf4b73c2",
   "metadata": {},
   "outputs": [
    {
     "name": "stdout",
     "output_type": "stream",
     "text": [
      "Requirement already satisfied: speechbrain in c:\\users\\kuksh\\anaconda3\\lib\\site-packages (1.0.2)\n",
      "Requirement already satisfied: hyperpyyaml in c:\\users\\kuksh\\anaconda3\\lib\\site-packages (from speechbrain) (1.2.2)\n",
      "Requirement already satisfied: joblib in c:\\users\\kuksh\\anaconda3\\lib\\site-packages (from speechbrain) (1.4.2)\n",
      "Requirement already satisfied: numpy in c:\\users\\kuksh\\anaconda3\\lib\\site-packages (from speechbrain) (1.21.6)\n",
      "Requirement already satisfied: packaging in c:\\users\\kuksh\\anaconda3\\lib\\site-packages (from speechbrain) (24.1)\n",
      "Requirement already satisfied: scipy in c:\\users\\kuksh\\anaconda3\\lib\\site-packages (from speechbrain) (1.10.1)\n",
      "Requirement already satisfied: sentencepiece in c:\\users\\kuksh\\anaconda3\\lib\\site-packages (from speechbrain) (0.2.0)\n",
      "Requirement already satisfied: torch>=1.9 in c:\\users\\kuksh\\anaconda3\\lib\\site-packages (from speechbrain) (2.6.0)\n",
      "Requirement already satisfied: torchaudio in c:\\users\\kuksh\\anaconda3\\lib\\site-packages (from speechbrain) (2.6.0+cpu)\n",
      "Requirement already satisfied: tqdm in c:\\users\\kuksh\\anaconda3\\lib\\site-packages (from speechbrain) (4.66.5)\n",
      "Requirement already satisfied: huggingface-hub in c:\\users\\kuksh\\anaconda3\\lib\\site-packages (from speechbrain) (0.26.2)\n",
      "Requirement already satisfied: filelock in c:\\users\\kuksh\\anaconda3\\lib\\site-packages (from torch>=1.9->speechbrain) (3.6.0)\n",
      "Requirement already satisfied: typing-extensions>=4.10.0 in c:\\users\\kuksh\\anaconda3\\lib\\site-packages (from torch>=1.9->speechbrain) (4.12.2)\n",
      "Requirement already satisfied: networkx in c:\\users\\kuksh\\anaconda3\\lib\\site-packages (from torch>=1.9->speechbrain) (2.7.1)\n",
      "Requirement already satisfied: jinja2 in c:\\users\\kuksh\\anaconda3\\lib\\site-packages (from torch>=1.9->speechbrain) (2.11.3)\n",
      "Requirement already satisfied: fsspec in c:\\users\\kuksh\\anaconda3\\lib\\site-packages (from torch>=1.9->speechbrain) (2024.9.0)\n",
      "Requirement already satisfied: sympy==1.13.1 in c:\\users\\kuksh\\anaconda3\\lib\\site-packages (from torch>=1.9->speechbrain) (1.13.1)\n",
      "Requirement already satisfied: mpmath<1.4,>=1.1.0 in c:\\users\\kuksh\\anaconda3\\lib\\site-packages (from sympy==1.13.1->torch>=1.9->speechbrain) (1.2.1)\n",
      "Requirement already satisfied: pyyaml>=5.1 in c:\\users\\kuksh\\anaconda3\\lib\\site-packages (from huggingface-hub->speechbrain) (6.0)\n",
      "Requirement already satisfied: requests in c:\\users\\kuksh\\anaconda3\\lib\\site-packages (from huggingface-hub->speechbrain) (2.32.3)\n",
      "Requirement already satisfied: colorama in c:\\users\\kuksh\\anaconda3\\lib\\site-packages (from tqdm->speechbrain) (0.4.4)\n",
      "Requirement already satisfied: ruamel.yaml>=0.17.28 in c:\\users\\kuksh\\anaconda3\\lib\\site-packages (from hyperpyyaml->speechbrain) (0.18.10)\n",
      "Requirement already satisfied: ruamel.yaml.clib>=0.2.7 in c:\\users\\kuksh\\anaconda3\\lib\\site-packages (from ruamel.yaml>=0.17.28->hyperpyyaml->speechbrain) (0.2.12)\n",
      "Requirement already satisfied: MarkupSafe>=0.23 in c:\\users\\kuksh\\anaconda3\\lib\\site-packages (from jinja2->torch>=1.9->speechbrain) (2.0.1)\n",
      "Requirement already satisfied: charset-normalizer<4,>=2 in c:\\users\\kuksh\\anaconda3\\lib\\site-packages (from requests->huggingface-hub->speechbrain) (2.0.4)\n",
      "Requirement already satisfied: idna<4,>=2.5 in c:\\users\\kuksh\\anaconda3\\lib\\site-packages (from requests->huggingface-hub->speechbrain) (3.3)\n",
      "Requirement already satisfied: urllib3<3,>=1.21.1 in c:\\users\\kuksh\\anaconda3\\lib\\site-packages (from requests->huggingface-hub->speechbrain) (1.26.9)\n",
      "Requirement already satisfied: certifi>=2017.4.17 in c:\\users\\kuksh\\anaconda3\\lib\\site-packages (from requests->huggingface-hub->speechbrain) (2021.10.8)\n",
      "Note: you may need to restart the kernel to use updated packages.\n"
     ]
    },
    {
     "name": "stderr",
     "output_type": "stream",
     "text": [
      "WARNING: Ignoring invalid distribution -pencv-python (c:\\users\\kuksh\\anaconda3\\lib\\site-packages)\n",
      "WARNING: Ignoring invalid distribution -pencv-python (c:\\users\\kuksh\\anaconda3\\lib\\site-packages)\n",
      "WARNING: Ignoring invalid distribution -pencv-python (c:\\users\\kuksh\\anaconda3\\lib\\site-packages)\n"
     ]
    }
   ],
   "source": [
    "pip install --upgrade speechbrain\n"
   ]
  },
  {
   "cell_type": "code",
   "execution_count": 3,
   "id": "861883fb",
   "metadata": {},
   "outputs": [
    {
     "name": "stderr",
     "output_type": "stream",
     "text": [
      "Cloning into 'spkrec-ecapa-voxceleb'...\n",
      "Filtering content: 100% (2/2)\n",
      "Filtering content: 100% (2/2), 84.73 MiB | 3.12 MiB/s, done.\n",
      "Encountered 1 file that should have been a pointer, but wasn't:\n",
      "\tmean_var_norm_emb.ckpt\n"
     ]
    }
   ],
   "source": [
    "!git clone https://huggingface.co/speechbrain/spkrec-ecapa-voxceleb"
   ]
  },
  {
   "cell_type": "code",
   "execution_count": 1,
   "id": "0986400a",
   "metadata": {},
   "outputs": [
    {
     "name": "stderr",
     "output_type": "stream",
     "text": [
      "INFO:speechbrain.utils.quirks:Applied quirks (see `speechbrain.utils.quirks`): [disable_jit_profiling, allow_tf32]\n",
      "INFO:speechbrain.utils.quirks:Excluded quirks specified by the `SB_DISABLE_QUIRKS` environment (comma-separated list): []\n",
      "C:\\Users\\kuksh\\anaconda3\\lib\\inspect.py:746: UserWarning: Module 'speechbrain.pretrained' was deprecated, redirecting to 'speechbrain.inference'. Please update your script. This is a change from SpeechBrain 1.0. See: https://github.com/speechbrain/speechbrain/releases/tag/v1.0.0\n",
      "  if ismodule(module) and hasattr(module, '__file__'):\n",
      "C:\\Users\\kuksh\\AppData\\Local\\Temp\\ipykernel_20600\\3075496948.py:1: UserWarning: Module 'speechbrain.pretrained' was deprecated, redirecting to 'speechbrain.inference'. Please update your script. This is a change from SpeechBrain 1.0. See: https://github.com/speechbrain/speechbrain/releases/tag/v1.0.0\n",
      "  from speechbrain.pretrained import SpeakerRecognition\n",
      "C:\\Users\\kuksh\\anaconda3\\lib\\site-packages\\speechbrain\\utils\\fetching.py:151: UserWarning: Using SYMLINK strategy on Windows for fetching potentially requires elevated privileges and is not recommended. See `LocalStrategy` documentation.\n",
      "  warnings.warn(\n",
      "C:\\Users\\kuksh\\anaconda3\\lib\\site-packages\\speechbrain\\utils\\autocast.py:68: FutureWarning: `torch.cuda.amp.custom_fwd(args...)` is deprecated. Please use `torch.amp.custom_fwd(args..., device_type='cuda')` instead.\n",
      "  wrapped_fwd = torch.cuda.amp.custom_fwd(fwd, cast_inputs=cast_inputs)\n",
      "C:\\Users\\kuksh\\anaconda3\\lib\\site-packages\\speechbrain\\utils\\parameter_transfer.py:234: UserWarning: Requested Pretrainer collection using symlinks on Windows. This might not work; see `LocalStrategy` documentation. Consider unsetting `collect_in` in Pretrainer to avoid symlinking altogether.\n",
      "  warnings.warn(\n",
      "INFO:speechbrain.utils.fetching:Fetch embedding_model.ckpt: Fetching from HuggingFace Hub 'speechbrain/spkrec-ecapa-voxceleb' if not cached\n"
     ]
    },
    {
     "data": {
      "application/vnd.jupyter.widget-view+json": {
       "model_id": "26c7d993756542eba25cd151d301853e",
       "version_major": 2,
       "version_minor": 0
      },
      "text/plain": [
       "embedding_model.ckpt:   0%|          | 0.00/83.3M [00:00<?, ?B/s]"
      ]
     },
     "metadata": {},
     "output_type": "display_data"
    },
    {
     "name": "stderr",
     "output_type": "stream",
     "text": [
      "INFO:speechbrain.utils.fetching:Fetch mean_var_norm_emb.ckpt: Fetching from HuggingFace Hub 'speechbrain/spkrec-ecapa-voxceleb' if not cached\n"
     ]
    },
    {
     "data": {
      "application/vnd.jupyter.widget-view+json": {
       "model_id": "6031b23d67034bc28a9bfedeed74662d",
       "version_major": 2,
       "version_minor": 0
      },
      "text/plain": [
       "mean_var_norm_emb.ckpt:   0%|          | 0.00/1.92k [00:00<?, ?B/s]"
      ]
     },
     "metadata": {},
     "output_type": "display_data"
    },
    {
     "name": "stderr",
     "output_type": "stream",
     "text": [
      "INFO:speechbrain.utils.fetching:Fetch classifier.ckpt: Fetching from HuggingFace Hub 'speechbrain/spkrec-ecapa-voxceleb' if not cached\n"
     ]
    },
    {
     "data": {
      "application/vnd.jupyter.widget-view+json": {
       "model_id": "e9e289fb9d7342e79a4ef859dab8cacd",
       "version_major": 2,
       "version_minor": 0
      },
      "text/plain": [
       "classifier.ckpt:   0%|          | 0.00/5.53M [00:00<?, ?B/s]"
      ]
     },
     "metadata": {},
     "output_type": "display_data"
    },
    {
     "name": "stderr",
     "output_type": "stream",
     "text": [
      "INFO:speechbrain.utils.fetching:Fetch label_encoder.txt: Fetching from HuggingFace Hub 'speechbrain/spkrec-ecapa-voxceleb' if not cached\n"
     ]
    },
    {
     "data": {
      "application/vnd.jupyter.widget-view+json": {
       "model_id": "02a68fb0b94d4b27af2be158a52175a2",
       "version_major": 2,
       "version_minor": 0
      },
      "text/plain": [
       "label_encoder.txt:   0%|          | 0.00/129k [00:00<?, ?B/s]"
      ]
     },
     "metadata": {},
     "output_type": "display_data"
    },
    {
     "name": "stderr",
     "output_type": "stream",
     "text": [
      "INFO:speechbrain.utils.parameter_transfer:Loading pretrained files for: embedding_model, mean_var_norm_emb, classifier, label_encoder\n"
     ]
    }
   ],
   "source": [
    "\n",
    "from speechbrain.pretrained import SpeakerRecognition\n",
    "\n",
    "model = SpeakerRecognition.from_hparams(\n",
    "    source=\"spkrec-ecapa-voxceleb\",  # Replace with your actual path\n",
    "    savedir=\"speechbrain_model\"  # Local directory where SpeechBrain saves files\n",
    ")\n"
   ]
  },
  {
   "cell_type": "code",
   "execution_count": 4,
   "id": "2c940e4a",
   "metadata": {},
   "outputs": [
    {
     "name": "stdout",
     "output_type": "stream",
     "text": [
      "Requirement already satisfied: torch in c:\\users\\kuksh\\anaconda3\\lib\\site-packages (2.6.0)\n",
      "Requirement already satisfied: filelock in c:\\users\\kuksh\\anaconda3\\lib\\site-packages (from torch) (3.6.0)\n",
      "Requirement already satisfied: typing-extensions>=4.10.0 in c:\\users\\kuksh\\anaconda3\\lib\\site-packages (from torch) (4.12.2)\n",
      "Requirement already satisfied: networkx in c:\\users\\kuksh\\anaconda3\\lib\\site-packages (from torch) (2.7.1)\n",
      "Requirement already satisfied: jinja2 in c:\\users\\kuksh\\anaconda3\\lib\\site-packages (from torch) (2.11.3)\n",
      "Requirement already satisfied: fsspec in c:\\users\\kuksh\\anaconda3\\lib\\site-packages (from torch) (2024.9.0)\n",
      "Requirement already satisfied: sympy==1.13.1 in c:\\users\\kuksh\\anaconda3\\lib\\site-packages (from torch) (1.13.1)\n",
      "Requirement already satisfied: mpmath<1.4,>=1.1.0 in c:\\users\\kuksh\\anaconda3\\lib\\site-packages (from sympy==1.13.1->torch) (1.2.1)\n",
      "Requirement already satisfied: MarkupSafe>=0.23 in c:\\users\\kuksh\\anaconda3\\lib\\site-packages (from jinja2->torch) (2.0.1)\n"
     ]
    },
    {
     "name": "stderr",
     "output_type": "stream",
     "text": [
      "WARNING: Ignoring invalid distribution -pencv-python (c:\\users\\kuksh\\anaconda3\\lib\\site-packages)\n",
      "WARNING: Ignoring invalid distribution -pencv-python (c:\\users\\kuksh\\anaconda3\\lib\\site-packages)\n",
      "WARNING: Ignoring invalid distribution -pencv-python (c:\\users\\kuksh\\anaconda3\\lib\\site-packages)\n"
     ]
    }
   ],
   "source": [
    "!pip install torch"
   ]
  },
  {
   "cell_type": "code",
   "execution_count": 13,
   "id": "a02f78fb",
   "metadata": {},
   "outputs": [],
   "source": [
    "import sounddevice as sd\n",
    "import scipy.io.wavfile as wav "
   ]
  },
  {
   "cell_type": "code",
   "execution_count": 1,
   "id": "10ce820e",
   "metadata": {},
   "outputs": [
    {
     "name": "stderr",
     "output_type": "stream",
     "text": [
      "INFO:speechbrain.utils.quirks:Applied quirks (see `speechbrain.utils.quirks`): [disable_jit_profiling, allow_tf32]\n",
      "INFO:speechbrain.utils.quirks:Excluded quirks specified by the `SB_DISABLE_QUIRKS` environment (comma-separated list): []\n",
      "C:\\Users\\kuksh\\anaconda3\\lib\\inspect.py:746: UserWarning: Module 'speechbrain.pretrained' was deprecated, redirecting to 'speechbrain.inference'. Please update your script. This is a change from SpeechBrain 1.0. See: https://github.com/speechbrain/speechbrain/releases/tag/v1.0.0\n",
      "  if ismodule(module) and hasattr(module, '__file__'):\n",
      "C:\\Users\\kuksh\\AppData\\Local\\Temp\\ipykernel_28340\\2454809806.py:4: UserWarning: Module 'speechbrain.pretrained' was deprecated, redirecting to 'speechbrain.inference'. Please update your script. This is a change from SpeechBrain 1.0. See: https://github.com/speechbrain/speechbrain/releases/tag/v1.0.0\n",
      "  from speechbrain.pretrained import EncoderClassifier\n",
      "INFO:speechbrain.utils.fetching:Fetch hyperparams.yaml: Fetching from HuggingFace Hub 'speechbrain/spkrec-ecapa-voxceleb' if not cached\n",
      "C:\\Users\\kuksh\\anaconda3\\lib\\site-packages\\speechbrain\\utils\\fetching.py:151: UserWarning: Using SYMLINK strategy on Windows for fetching potentially requires elevated privileges and is not recommended. See `LocalStrategy` documentation.\n",
      "  warnings.warn(\n",
      "INFO:speechbrain.utils.fetching:Fetch custom.py: Fetching from HuggingFace Hub 'speechbrain/spkrec-ecapa-voxceleb' if not cached\n",
      "C:\\Users\\kuksh\\anaconda3\\lib\\site-packages\\speechbrain\\utils\\autocast.py:68: FutureWarning: `torch.cuda.amp.custom_fwd(args...)` is deprecated. Please use `torch.amp.custom_fwd(args..., device_type='cuda')` instead.\n",
      "  wrapped_fwd = torch.cuda.amp.custom_fwd(fwd, cast_inputs=cast_inputs)\n",
      "C:\\Users\\kuksh\\anaconda3\\lib\\site-packages\\speechbrain\\utils\\parameter_transfer.py:234: UserWarning: Requested Pretrainer collection using symlinks on Windows. This might not work; see `LocalStrategy` documentation. Consider unsetting `collect_in` in Pretrainer to avoid symlinking altogether.\n",
      "  warnings.warn(\n",
      "INFO:speechbrain.utils.fetching:Fetch embedding_model.ckpt: Fetching from HuggingFace Hub 'speechbrain/spkrec-ecapa-voxceleb' if not cached\n",
      "INFO:speechbrain.utils.fetching:Fetch mean_var_norm_emb.ckpt: Fetching from HuggingFace Hub 'speechbrain/spkrec-ecapa-voxceleb' if not cached\n",
      "INFO:speechbrain.utils.fetching:Fetch classifier.ckpt: Fetching from HuggingFace Hub 'speechbrain/spkrec-ecapa-voxceleb' if not cached\n",
      "INFO:speechbrain.utils.fetching:Fetch label_encoder.txt: Fetching from HuggingFace Hub 'speechbrain/spkrec-ecapa-voxceleb' if not cached\n",
      "INFO:speechbrain.utils.parameter_transfer:Loading pretrained files for: embedding_model, mean_var_norm_emb, classifier, label_encoder\n"
     ]
    },
    {
     "name": "stdout",
     "output_type": "stream",
     "text": [
      "🎤 Recording 5 seconds of audio...\n",
      "✅ Recording saved as enroll_1.wav\n",
      "🎤 Recording 5 seconds of audio...\n",
      "✅ Recording saved as enroll_2.wav\n",
      "🎤 Recording 5 seconds of audio...\n",
      "✅ Recording saved as enroll_3.wav\n",
      "🎤 Recording 5 seconds of audio...\n",
      "✅ Recording saved as enroll_4.wav\n",
      "🎤 Recording 5 seconds of audio...\n",
      "✅ Recording saved as enroll_5.wav\n",
      "🎤 Recording 5 seconds of audio...\n",
      "✅ Recording saved as enroll_6.wav\n",
      "🎤 Recording 5 seconds of audio...\n",
      "✅ Recording saved as enroll_7.wav\n",
      "🎤 Recording 5 seconds of audio...\n",
      "✅ Recording saved as enroll_8.wav\n",
      "🎤 Recording 5 seconds of audio...\n",
      "✅ Recording saved as enroll_9.wav\n",
      "🎤 Recording 5 seconds of audio...\n",
      "✅ Recording saved as enroll_10.wav\n"
     ]
    }
   ],
   "source": [
    "import torchaudio\n",
    "import torch\n",
    "import speechbrain as sb\n",
    "from speechbrain.pretrained import EncoderClassifier\n",
    "import sounddevice as sd\n",
    "import numpy as np\n",
    "\n",
    "# Load the Speaker Recognition Model\n",
    "model = EncoderClassifier.from_hparams(\n",
    "    source=\"speechbrain/spkrec-ecapa-voxceleb\",\n",
    "    savedir=\"tmp/spkrec-ecapa-voxceleb\"\n",
    ")\n",
    "\n",
    "# Function to Record Audio\n",
    "def record_audio(filename, duration=5, sample_rate=16000):\n",
    "    print(f\"🎤 Recording {duration} seconds of audio...\")\n",
    "    audio_data = sd.rec(int(duration * sample_rate), samplerate=sample_rate, channels=1, dtype=np.float32)\n",
    "    sd.wait()\n",
    "    torchaudio.save(filename, torch.tensor(audio_data.T), sample_rate)\n",
    "    print(f\"✅ Recording saved as {filename}\")\n",
    "\n",
    "# Function to Denoise Audio (Placeholder)\n",
    "def denoise_audio(waveform, sample_rate):\n",
    "    return waveform  # Implement noise reduction here if needed\n",
    "\n",
    "def enroll_speaker(audio_paths):\n",
    "    embeddings = []\n",
    "    for path in audio_paths:\n",
    "        waveform, sample_rate = torchaudio.load(path)\n",
    "        waveform = denoise_audio(waveform, sample_rate)  # Apply denoising\n",
    "\n",
    "        # Ensure waveform has sufficient length\n",
    "        if waveform.shape[-1] < 3:\n",
    "            waveform = torch.nn.functional.pad(waveform, (0, 3 - waveform.shape[-1]))\n",
    "\n",
    "        embedding = model.encode_batch(waveform, wav_lens=None)\n",
    "        embeddings.append(embedding)\n",
    "\n",
    "    return torch.stack(embeddings).mean(dim=0)\n",
    "\n",
    "# Generate 10 Enrollment Audio Filenames\n",
    "enrolled_audio_paths = [f\"enroll_{i}.wav\" for i in range(1, 11)]\n",
    "\n",
    "# Duplicate the 10 Samples to Make 50\n",
    "duplicated_audio_paths = enrolled_audio_paths * 5  # 10 samples × 5 = 50\n",
    "\n",
    "# Record 10 Enrollment Samples\n",
    "for path in enrolled_audio_paths:\n",
    "    record_audio(path, duration=5)\n",
    "\n",
    "# Generate Embedding for Enrollment (Now Using 50 Samples)\n",
    "enrolled_voice = enroll_speaker(duplicated_audio_paths)\n"
   ]
  },
  {
   "cell_type": "code",
   "execution_count": 5,
   "id": "03cbb2c6",
   "metadata": {},
   "outputs": [
    {
     "name": "stdout",
     "output_type": "stream",
     "text": [
      "Collecting noisereduce\n",
      "  Downloading noisereduce-3.0.3-py3-none-any.whl.metadata (14 kB)\n",
      "Requirement already satisfied: scipy in c:\\users\\kuksh\\anaconda3\\lib\\site-packages (from noisereduce) (1.10.1)\n",
      "Requirement already satisfied: matplotlib in c:\\users\\kuksh\\anaconda3\\lib\\site-packages (from noisereduce) (3.5.1)\n",
      "Requirement already satisfied: numpy in c:\\users\\kuksh\\anaconda3\\lib\\site-packages (from noisereduce) (1.21.6)\n",
      "Requirement already satisfied: tqdm in c:\\users\\kuksh\\anaconda3\\lib\\site-packages (from noisereduce) (4.66.5)\n",
      "Requirement already satisfied: joblib in c:\\users\\kuksh\\anaconda3\\lib\\site-packages (from noisereduce) (1.4.2)\n",
      "Requirement already satisfied: cycler>=0.10 in c:\\users\\kuksh\\anaconda3\\lib\\site-packages (from matplotlib->noisereduce) (0.11.0)\n",
      "Requirement already satisfied: fonttools>=4.22.0 in c:\\users\\kuksh\\anaconda3\\lib\\site-packages (from matplotlib->noisereduce) (4.25.0)\n",
      "Requirement already satisfied: kiwisolver>=1.0.1 in c:\\users\\kuksh\\anaconda3\\lib\\site-packages (from matplotlib->noisereduce) (1.3.2)\n",
      "Requirement already satisfied: packaging>=20.0 in c:\\users\\kuksh\\anaconda3\\lib\\site-packages (from matplotlib->noisereduce) (24.1)\n",
      "Requirement already satisfied: pillow>=6.2.0 in c:\\users\\kuksh\\anaconda3\\lib\\site-packages (from matplotlib->noisereduce) (10.4.0)\n",
      "Requirement already satisfied: pyparsing>=2.2.1 in c:\\users\\kuksh\\anaconda3\\lib\\site-packages (from matplotlib->noisereduce) (3.0.4)\n",
      "Requirement already satisfied: python-dateutil>=2.7 in c:\\users\\kuksh\\anaconda3\\lib\\site-packages (from matplotlib->noisereduce) (2.8.2)\n",
      "Requirement already satisfied: colorama in c:\\users\\kuksh\\anaconda3\\lib\\site-packages (from tqdm->noisereduce) (0.4.4)\n",
      "Requirement already satisfied: six>=1.5 in c:\\users\\kuksh\\anaconda3\\lib\\site-packages (from python-dateutil>=2.7->matplotlib->noisereduce) (1.16.0)\n",
      "Downloading noisereduce-3.0.3-py3-none-any.whl (22 kB)\n",
      "Installing collected packages: noisereduce\n",
      "Successfully installed noisereduce-3.0.3\n",
      "Note: you may need to restart the kernel to use updated packages.\n"
     ]
    },
    {
     "name": "stderr",
     "output_type": "stream",
     "text": [
      "WARNING: Ignoring invalid distribution -pencv-python (c:\\users\\kuksh\\anaconda3\\lib\\site-packages)\n",
      "WARNING: Ignoring invalid distribution -pencv-python (c:\\users\\kuksh\\anaconda3\\lib\\site-packages)\n",
      "WARNING: Ignoring invalid distribution -pencv-python (c:\\users\\kuksh\\anaconda3\\lib\\site-packages)\n"
     ]
    }
   ],
   "source": [
    "pip install noisereduce\n"
   ]
  },
  {
   "cell_type": "code",
   "execution_count": 4,
   "id": "d0b3e267",
   "metadata": {},
   "outputs": [
    {
     "name": "stdout",
     "output_type": "stream",
     "text": [
      "Requirement already satisfied: geocoder in c:\\users\\kuksh\\anaconda3\\lib\\site-packages (1.38.1)\n",
      "Requirement already satisfied: click in c:\\users\\kuksh\\anaconda3\\lib\\site-packages (from geocoder) (8.0.4)\n",
      "Requirement already satisfied: future in c:\\users\\kuksh\\anaconda3\\lib\\site-packages (from geocoder) (0.18.2)\n",
      "Requirement already satisfied: ratelim in c:\\users\\kuksh\\anaconda3\\lib\\site-packages (from geocoder) (0.1.6)\n",
      "Requirement already satisfied: requests in c:\\users\\kuksh\\anaconda3\\lib\\site-packages (from geocoder) (2.32.3)\n",
      "Requirement already satisfied: six in c:\\users\\kuksh\\anaconda3\\lib\\site-packages (from geocoder) (1.16.0)\n",
      "Requirement already satisfied: colorama in c:\\users\\kuksh\\anaconda3\\lib\\site-packages (from click->geocoder) (0.4.4)\n",
      "Requirement already satisfied: decorator in c:\\users\\kuksh\\anaconda3\\lib\\site-packages (from ratelim->geocoder) (5.1.1)\n",
      "Requirement already satisfied: charset-normalizer<4,>=2 in c:\\users\\kuksh\\anaconda3\\lib\\site-packages (from requests->geocoder) (2.0.4)\n",
      "Requirement already satisfied: idna<4,>=2.5 in c:\\users\\kuksh\\anaconda3\\lib\\site-packages (from requests->geocoder) (3.3)\n",
      "Requirement already satisfied: urllib3<3,>=1.21.1 in c:\\users\\kuksh\\anaconda3\\lib\\site-packages (from requests->geocoder) (1.26.9)\n",
      "Requirement already satisfied: certifi>=2017.4.17 in c:\\users\\kuksh\\anaconda3\\lib\\site-packages (from requests->geocoder) (2021.10.8)\n",
      "Note: you may need to restart the kernel to use updated packages.\n"
     ]
    },
    {
     "name": "stderr",
     "output_type": "stream",
     "text": [
      "WARNING: Ignoring invalid distribution -pencv-python (c:\\users\\kuksh\\anaconda3\\lib\\site-packages)\n",
      "WARNING: Ignoring invalid distribution -pencv-python (c:\\users\\kuksh\\anaconda3\\lib\\site-packages)\n",
      "WARNING: Ignoring invalid distribution -pencv-python (c:\\users\\kuksh\\anaconda3\\lib\\site-packages)\n"
     ]
    }
   ],
   "source": [
    "pip install geocoder"
   ]
  },
  {
   "cell_type": "code",
   "execution_count": 2,
   "id": "7ff2c624",
   "metadata": {},
   "outputs": [
    {
     "name": "stderr",
     "output_type": "stream",
     "text": [
      "C:\\Users\\kuksh\\anaconda3\\lib\\site-packages\\paramiko\\pkey.py:82: CryptographyDeprecationWarning: TripleDES has been moved to cryptography.hazmat.decrepit.ciphers.algorithms.TripleDES and will be removed from cryptography.hazmat.primitives.ciphers.algorithms in 48.0.0.\n",
      "  \"cipher\": algorithms.TripleDES,\n",
      "C:\\Users\\kuksh\\anaconda3\\lib\\site-packages\\paramiko\\transport.py:219: CryptographyDeprecationWarning: Blowfish has been moved to cryptography.hazmat.decrepit.ciphers.algorithms.Blowfish and will be removed from cryptography.hazmat.primitives.ciphers.algorithms in 45.0.0.\n",
      "  \"class\": algorithms.Blowfish,\n",
      "C:\\Users\\kuksh\\anaconda3\\lib\\site-packages\\paramiko\\transport.py:243: CryptographyDeprecationWarning: TripleDES has been moved to cryptography.hazmat.decrepit.ciphers.algorithms.TripleDES and will be removed from cryptography.hazmat.primitives.ciphers.algorithms in 48.0.0.\n",
      "  \"class\": algorithms.TripleDES,\n",
      "C:\\Users\\kuksh\\anaconda3\\lib\\site-packages\\pydub\\utils.py:170: RuntimeWarning: Couldn't find ffmpeg or avconv - defaulting to ffmpeg, but may not work\n",
      "  warn(\"Couldn't find ffmpeg or avconv - defaulting to ffmpeg, but may not work\", RuntimeWarning)\n",
      "INFO:numexpr.utils:NumExpr defaulting to 8 threads.\n"
     ]
    },
    {
     "name": "stdout",
     "output_type": "stream",
     "text": [
      "Set your security code: 1212\n"
     ]
    },
    {
     "name": "stderr",
     "output_type": "stream",
     "text": [
      "C:\\Users\\kuksh\\anaconda3\\lib\\site-packages\\huggingface_hub\\file_download.py:797: FutureWarning: `resume_download` is deprecated and will be removed in version 1.0.0. Downloads always resume when possible. If you want to force a new download, use `force_download=True`.\n",
      "  warnings.warn(\n",
      "C:\\Users\\kuksh\\anaconda3\\lib\\site-packages\\transformers\\configuration_utils.py:369: UserWarning: Passing `gradient_checkpointing` to a config initialization is deprecated and will be removed in v5 Transformers. Using `model.gradient_checkpointing_enable()` instead, or if you are using the `Trainer` API, pass `gradient_checkpointing=True` in your `TrainingArguments`.\n",
      "  warnings.warn(\n",
      "C:\\Users\\kuksh\\anaconda3\\lib\\site-packages\\torch\\nn\\utils\\weight_norm.py:143: FutureWarning: `torch.nn.utils.weight_norm` is deprecated in favor of `torch.nn.utils.parametrizations.weight_norm`.\n",
      "  WeightNorm.apply(module, name, dim)\n",
      "Some weights of the model checkpoint at facebook/wav2vec2-base were not used when initializing Wav2Vec2ForSequenceClassification: ['project_hid.bias', 'project_q.bias', 'quantizer.weight_proj.weight', 'project_hid.weight', 'project_q.weight', 'quantizer.weight_proj.bias', 'quantizer.codevectors']\n",
      "- This IS expected if you are initializing Wav2Vec2ForSequenceClassification from the checkpoint of a model trained on another task or with another architecture (e.g. initializing a BertForSequenceClassification model from a BertForPreTraining model).\n",
      "- This IS NOT expected if you are initializing Wav2Vec2ForSequenceClassification from the checkpoint of a model that you expect to be exactly identical (initializing a BertForSequenceClassification model from a BertForSequenceClassification model).\n",
      "Some weights of Wav2Vec2ForSequenceClassification were not initialized from the model checkpoint at facebook/wav2vec2-base and are newly initialized: ['projector.weight', 'classifier.bias', 'classifier.weight', 'projector.bias']\n",
      "You should probably TRAIN this model on a down-stream task to be able to use it for predictions and inference.\n"
     ]
    },
    {
     "name": "stdout",
     "output_type": "stream",
     "text": [
      "Enter a location: bangalore\n",
      "Coordinates of bangalore: (12.98815675, 77.62260003796)\n"
     ]
    },
    {
     "name": "stderr",
     "output_type": "stream",
     "text": [
      "INFO:geocoder.base:Requested http://ipinfo.io/json\n"
     ]
    },
    {
     "name": "stdout",
     "output_type": "stream",
     "text": [
      "Tracking started at location: [12.8991, 80.169]\n"
     ]
    },
    {
     "name": "stderr",
     "output_type": "stream",
     "text": [
      "INFO:geocoder.base:Requested http://ipinfo.io/json\n",
      "INFO:geocoder.base:Requested http://ipinfo.io/json\n",
      "INFO:geocoder.base:Requested http://ipinfo.io/json\n",
      "INFO:geocoder.base:Requested http://ipinfo.io/json\n",
      "INFO:geocoder.base:Requested http://ipinfo.io/json\n",
      "INFO:geocoder.base:Requested http://ipinfo.io/json\n"
     ]
    },
    {
     "name": "stdout",
     "output_type": "stream",
     "text": [
      "🚨 Person stationary for 10 seconds. Starting verification!\n",
      "\n",
      "Enter security code: 1212\n",
      "🎤 Recording voice...\n",
      "✅ Denoised voice recorded.\n",
      "✅ Verification successful. Stopping alert.\n"
     ]
    },
    {
     "name": "stderr",
     "output_type": "stream",
     "text": [
      "INFO:geocoder.base:Requested http://ipinfo.io/json\n"
     ]
    },
    {
     "name": "stdout",
     "output_type": "stream",
     "text": [
      "⏳ Time-based verification started...\n",
      "\n",
      "Enter security code: 1212\n",
      "🎤 Recording voice...\n",
      "✅ Denoised voice recorded.\n",
      "✅ Verification successful. Stopping alert.\n"
     ]
    },
    {
     "name": "stderr",
     "output_type": "stream",
     "text": [
      "INFO:geocoder.base:Requested http://ipinfo.io/json\n"
     ]
    },
    {
     "name": "stdout",
     "output_type": "stream",
     "text": [
      "🚨 Person stationary for 10 seconds. Starting verification!\n",
      "\n",
      "Enter security code: 1212\n",
      "🎤 Recording voice...\n",
      "✅ Denoised voice recorded.\n",
      "✅ Verification successful. Stopping alert.\n"
     ]
    },
    {
     "name": "stderr",
     "output_type": "stream",
     "text": [
      "INFO:geocoder.base:Requested http://ipinfo.io/json\n"
     ]
    },
    {
     "ename": "KeyboardInterrupt",
     "evalue": "",
     "output_type": "error",
     "traceback": [
      "\u001b[1;31m---------------------------------------------------------------------------\u001b[0m",
      "\u001b[1;31mKeyboardInterrupt\u001b[0m                         Traceback (most recent call last)",
      "Input \u001b[1;32mIn [2]\u001b[0m, in \u001b[0;36m<cell line: 210>\u001b[1;34m()\u001b[0m\n\u001b[0;32m    207\u001b[0m             \u001b[38;5;28;01mbreak\u001b[39;00m\n\u001b[0;32m    209\u001b[0m \u001b[38;5;66;03m# ------------------- START TRACKING -------------------\u001b[39;00m\n\u001b[1;32m--> 210\u001b[0m \u001b[43mtrack_location\u001b[49m\u001b[43m(\u001b[49m\u001b[43m)\u001b[49m\n",
      "Input \u001b[1;32mIn [2]\u001b[0m, in \u001b[0;36mtrack_location\u001b[1;34m()\u001b[0m\n\u001b[0;32m    176\u001b[0m \u001b[38;5;28;01mwhile\u001b[39;00m \u001b[38;5;28;01mTrue\u001b[39;00m:\n\u001b[0;32m    177\u001b[0m     time\u001b[38;5;241m.\u001b[39msleep(\u001b[38;5;241m1\u001b[39m)  \u001b[38;5;66;03m# Check location every second\u001b[39;00m\n\u001b[1;32m--> 178\u001b[0m     current_location \u001b[38;5;241m=\u001b[39m \u001b[43mget_current_location\u001b[49m\u001b[43m(\u001b[49m\u001b[43m)\u001b[49m\n\u001b[0;32m    180\u001b[0m     \u001b[38;5;66;03m# Check if path exists\u001b[39;00m\n\u001b[0;32m    181\u001b[0m     \u001b[38;5;28;01mif\u001b[39;00m \u001b[38;5;129;01mnot\u001b[39;00m check_path_exists(current_location, coordinates):\n",
      "Input \u001b[1;32mIn [2]\u001b[0m, in \u001b[0;36mget_current_location\u001b[1;34m()\u001b[0m\n\u001b[0;32m     71\u001b[0m \u001b[38;5;28;01mdef\u001b[39;00m \u001b[38;5;21mget_current_location\u001b[39m():\n\u001b[0;32m     72\u001b[0m \u001b[38;5;250m    \u001b[39m\u001b[38;5;124;03m\"\"\"Get user's approximate GPS coordinates.\"\"\"\u001b[39;00m\n\u001b[1;32m---> 73\u001b[0m     g \u001b[38;5;241m=\u001b[39m \u001b[43mgeocoder\u001b[49m\u001b[38;5;241;43m.\u001b[39;49m\u001b[43mip\u001b[49m\u001b[43m(\u001b[49m\u001b[38;5;124;43m'\u001b[39;49m\u001b[38;5;124;43mme\u001b[39;49m\u001b[38;5;124;43m'\u001b[39;49m\u001b[43m)\u001b[49m\n\u001b[0;32m     74\u001b[0m     \u001b[38;5;28;01mreturn\u001b[39;00m g\u001b[38;5;241m.\u001b[39mlatlng \u001b[38;5;28;01mif\u001b[39;00m g\u001b[38;5;241m.\u001b[39mlatlng \u001b[38;5;28;01melse\u001b[39;00m (\u001b[38;5;28;01mNone\u001b[39;00m, \u001b[38;5;28;01mNone\u001b[39;00m)\n",
      "File \u001b[1;32m~\\anaconda3\\lib\\site-packages\\geocoder\\api.py:498\u001b[0m, in \u001b[0;36mip\u001b[1;34m(location, **kwargs)\u001b[0m\n\u001b[0;32m    491\u001b[0m \u001b[38;5;28;01mdef\u001b[39;00m \u001b[38;5;21mip\u001b[39m(location, \u001b[38;5;241m*\u001b[39m\u001b[38;5;241m*\u001b[39mkwargs):\n\u001b[0;32m    492\u001b[0m \u001b[38;5;250m    \u001b[39m\u001b[38;5;124;03m\"\"\"IP Address lookup\u001b[39;00m\n\u001b[0;32m    493\u001b[0m \n\u001b[0;32m    494\u001b[0m \u001b[38;5;124;03m    :param ``location``: Your search IP Address you want geocoded.\u001b[39;00m\n\u001b[0;32m    495\u001b[0m \u001b[38;5;124;03m    :param ``location``: (optional) if left blank will return your\u001b[39;00m\n\u001b[0;32m    496\u001b[0m \u001b[38;5;124;03m                                current IP address's location.\u001b[39;00m\n\u001b[0;32m    497\u001b[0m \u001b[38;5;124;03m    \"\"\"\u001b[39;00m\n\u001b[1;32m--> 498\u001b[0m     \u001b[38;5;28;01mreturn\u001b[39;00m get(location, provider\u001b[38;5;241m=\u001b[39m\u001b[38;5;124m'\u001b[39m\u001b[38;5;124mipinfo\u001b[39m\u001b[38;5;124m'\u001b[39m, \u001b[38;5;241m*\u001b[39m\u001b[38;5;241m*\u001b[39mkwargs)\n",
      "File \u001b[1;32m~\\anaconda3\\lib\\site-packages\\geocoder\\api.py:198\u001b[0m, in \u001b[0;36mget\u001b[1;34m(location, **kwargs)\u001b[0m\n\u001b[0;32m    196\u001b[0m     \u001b[38;5;28;01mif\u001b[39;00m method \u001b[38;5;129;01mnot\u001b[39;00m \u001b[38;5;129;01min\u001b[39;00m options[provider]:\n\u001b[0;32m    197\u001b[0m         \u001b[38;5;28;01mraise\u001b[39;00m \u001b[38;5;167;01mValueError\u001b[39;00m(\u001b[38;5;124m\"\u001b[39m\u001b[38;5;124mInvalid method\u001b[39m\u001b[38;5;124m\"\u001b[39m)\n\u001b[1;32m--> 198\u001b[0m \u001b[38;5;28;01mreturn\u001b[39;00m options[provider][method](location, \u001b[38;5;241m*\u001b[39m\u001b[38;5;241m*\u001b[39mkwargs)\n",
      "File \u001b[1;32m~\\anaconda3\\lib\\site-packages\\geocoder\\base.py:410\u001b[0m, in \u001b[0;36mMultipleResultsQuery.__init__\u001b[1;34m(self, location, **kwargs)\u001b[0m\n\u001b[0;32m    407\u001b[0m \u001b[38;5;28mself\u001b[39m\u001b[38;5;241m.\u001b[39m_before_initialize(location, \u001b[38;5;241m*\u001b[39m\u001b[38;5;241m*\u001b[39mkwargs)\n\u001b[0;32m    409\u001b[0m \u001b[38;5;66;03m# query and parse results\u001b[39;00m\n\u001b[1;32m--> 410\u001b[0m \u001b[38;5;28;43mself\u001b[39;49m\u001b[38;5;241;43m.\u001b[39;49m\u001b[43m_initialize\u001b[49m\u001b[43m(\u001b[49m\u001b[43m)\u001b[49m\n",
      "File \u001b[1;32m~\\anaconda3\\lib\\site-packages\\geocoder\\base.py:457\u001b[0m, in \u001b[0;36mMultipleResultsQuery._initialize\u001b[1;34m(self)\u001b[0m\n\u001b[0;32m    455\u001b[0m \u001b[38;5;28;01mdef\u001b[39;00m \u001b[38;5;21m_initialize\u001b[39m(\u001b[38;5;28mself\u001b[39m):\n\u001b[0;32m    456\u001b[0m     \u001b[38;5;66;03m# query URL and get valid JSON (also stored in self.json)\u001b[39;00m\n\u001b[1;32m--> 457\u001b[0m     json_response \u001b[38;5;241m=\u001b[39m \u001b[38;5;28;43mself\u001b[39;49m\u001b[38;5;241;43m.\u001b[39;49m\u001b[43m_connect\u001b[49m\u001b[43m(\u001b[49m\u001b[43m)\u001b[49m\n\u001b[0;32m    459\u001b[0m     \u001b[38;5;66;03m# catch errors\u001b[39;00m\n\u001b[0;32m    460\u001b[0m     has_error \u001b[38;5;241m=\u001b[39m \u001b[38;5;28mself\u001b[39m\u001b[38;5;241m.\u001b[39m_catch_errors(\n\u001b[0;32m    461\u001b[0m         json_response) \u001b[38;5;28;01mif\u001b[39;00m json_response \u001b[38;5;28;01melse\u001b[39;00m \u001b[38;5;28;01mTrue\u001b[39;00m\n",
      "File \u001b[1;32m~\\anaconda3\\lib\\site-packages\\geocoder\\base.py:479\u001b[0m, in \u001b[0;36mMultipleResultsQuery._connect\u001b[1;34m(self)\u001b[0m\n\u001b[0;32m    475\u001b[0m \u001b[38;5;28mself\u001b[39m\u001b[38;5;241m.\u001b[39mstatus_code \u001b[38;5;241m=\u001b[39m \u001b[38;5;124m'\u001b[39m\u001b[38;5;124mUnknown\u001b[39m\u001b[38;5;124m'\u001b[39m\n\u001b[0;32m    477\u001b[0m \u001b[38;5;28;01mtry\u001b[39;00m:\n\u001b[0;32m    478\u001b[0m     \u001b[38;5;66;03m# make request and get response\u001b[39;00m\n\u001b[1;32m--> 479\u001b[0m     \u001b[38;5;28mself\u001b[39m\u001b[38;5;241m.\u001b[39mresponse \u001b[38;5;241m=\u001b[39m response \u001b[38;5;241m=\u001b[39m \u001b[38;5;28;43mself\u001b[39;49m\u001b[38;5;241;43m.\u001b[39;49m\u001b[43mrate_limited_get\u001b[49m\u001b[43m(\u001b[49m\n\u001b[0;32m    480\u001b[0m \u001b[43m        \u001b[49m\u001b[38;5;28;43mself\u001b[39;49m\u001b[38;5;241;43m.\u001b[39;49m\u001b[43murl\u001b[49m\u001b[43m,\u001b[49m\n\u001b[0;32m    481\u001b[0m \u001b[43m        \u001b[49m\u001b[43mparams\u001b[49m\u001b[38;5;241;43m=\u001b[39;49m\u001b[38;5;28;43mself\u001b[39;49m\u001b[38;5;241;43m.\u001b[39;49m\u001b[43mparams\u001b[49m\u001b[43m,\u001b[49m\n\u001b[0;32m    482\u001b[0m \u001b[43m        \u001b[49m\u001b[43mheaders\u001b[49m\u001b[38;5;241;43m=\u001b[39;49m\u001b[38;5;28;43mself\u001b[39;49m\u001b[38;5;241;43m.\u001b[39;49m\u001b[43mheaders\u001b[49m\u001b[43m,\u001b[49m\n\u001b[0;32m    483\u001b[0m \u001b[43m        \u001b[49m\u001b[43mtimeout\u001b[49m\u001b[38;5;241;43m=\u001b[39;49m\u001b[38;5;28;43mself\u001b[39;49m\u001b[38;5;241;43m.\u001b[39;49m\u001b[43mtimeout\u001b[49m\u001b[43m,\u001b[49m\n\u001b[0;32m    484\u001b[0m \u001b[43m        \u001b[49m\u001b[43mproxies\u001b[49m\u001b[38;5;241;43m=\u001b[39;49m\u001b[38;5;28;43mself\u001b[39;49m\u001b[38;5;241;43m.\u001b[39;49m\u001b[43mproxies\u001b[49m\n\u001b[0;32m    485\u001b[0m \u001b[43m    \u001b[49m\u001b[43m)\u001b[49m\n\u001b[0;32m    487\u001b[0m     \u001b[38;5;66;03m# check that response is ok\u001b[39;00m\n\u001b[0;32m    488\u001b[0m     \u001b[38;5;28mself\u001b[39m\u001b[38;5;241m.\u001b[39mstatus_code \u001b[38;5;241m=\u001b[39m response\u001b[38;5;241m.\u001b[39mstatus_code\n",
      "File \u001b[1;32m~\\anaconda3\\lib\\site-packages\\geocoder\\base.py:510\u001b[0m, in \u001b[0;36mMultipleResultsQuery.rate_limited_get\u001b[1;34m(self, url, **kwargs)\u001b[0m\n\u001b[0;32m    508\u001b[0m \u001b[38;5;28;01mdef\u001b[39;00m \u001b[38;5;21mrate_limited_get\u001b[39m(\u001b[38;5;28mself\u001b[39m, url, \u001b[38;5;241m*\u001b[39m\u001b[38;5;241m*\u001b[39mkwargs):\n\u001b[0;32m    509\u001b[0m \u001b[38;5;250m    \u001b[39m\u001b[38;5;124;03m\"\"\" By default, simply wraps a session.get request\"\"\"\u001b[39;00m\n\u001b[1;32m--> 510\u001b[0m     \u001b[38;5;28;01mreturn\u001b[39;00m \u001b[38;5;28mself\u001b[39m\u001b[38;5;241m.\u001b[39msession\u001b[38;5;241m.\u001b[39mget(url, \u001b[38;5;241m*\u001b[39m\u001b[38;5;241m*\u001b[39mkwargs)\n",
      "File \u001b[1;32m~\\anaconda3\\lib\\site-packages\\requests\\sessions.py:602\u001b[0m, in \u001b[0;36mSession.get\u001b[1;34m(self, url, **kwargs)\u001b[0m\n\u001b[0;32m    594\u001b[0m \u001b[38;5;250m\u001b[39m\u001b[38;5;124mr\u001b[39m\u001b[38;5;124;03m\"\"\"Sends a GET request. Returns :class:`Response` object.\u001b[39;00m\n\u001b[0;32m    595\u001b[0m \n\u001b[0;32m    596\u001b[0m \u001b[38;5;124;03m:param url: URL for the new :class:`Request` object.\u001b[39;00m\n\u001b[0;32m    597\u001b[0m \u001b[38;5;124;03m:param \\*\\*kwargs: Optional arguments that ``request`` takes.\u001b[39;00m\n\u001b[0;32m    598\u001b[0m \u001b[38;5;124;03m:rtype: requests.Response\u001b[39;00m\n\u001b[0;32m    599\u001b[0m \u001b[38;5;124;03m\"\"\"\u001b[39;00m\n\u001b[0;32m    601\u001b[0m kwargs\u001b[38;5;241m.\u001b[39msetdefault(\u001b[38;5;124m\"\u001b[39m\u001b[38;5;124mallow_redirects\u001b[39m\u001b[38;5;124m\"\u001b[39m, \u001b[38;5;28;01mTrue\u001b[39;00m)\n\u001b[1;32m--> 602\u001b[0m \u001b[38;5;28;01mreturn\u001b[39;00m \u001b[38;5;28mself\u001b[39m\u001b[38;5;241m.\u001b[39mrequest(\u001b[38;5;124m\"\u001b[39m\u001b[38;5;124mGET\u001b[39m\u001b[38;5;124m\"\u001b[39m, url, \u001b[38;5;241m*\u001b[39m\u001b[38;5;241m*\u001b[39mkwargs)\n",
      "File \u001b[1;32m~\\anaconda3\\lib\\site-packages\\requests\\sessions.py:589\u001b[0m, in \u001b[0;36mSession.request\u001b[1;34m(self, method, url, params, data, headers, cookies, files, auth, timeout, allow_redirects, proxies, hooks, stream, verify, cert, json)\u001b[0m\n\u001b[0;32m    584\u001b[0m send_kwargs \u001b[38;5;241m=\u001b[39m {\n\u001b[0;32m    585\u001b[0m     \u001b[38;5;124m\"\u001b[39m\u001b[38;5;124mtimeout\u001b[39m\u001b[38;5;124m\"\u001b[39m: timeout,\n\u001b[0;32m    586\u001b[0m     \u001b[38;5;124m\"\u001b[39m\u001b[38;5;124mallow_redirects\u001b[39m\u001b[38;5;124m\"\u001b[39m: allow_redirects,\n\u001b[0;32m    587\u001b[0m }\n\u001b[0;32m    588\u001b[0m send_kwargs\u001b[38;5;241m.\u001b[39mupdate(settings)\n\u001b[1;32m--> 589\u001b[0m resp \u001b[38;5;241m=\u001b[39m \u001b[38;5;28mself\u001b[39m\u001b[38;5;241m.\u001b[39msend(prep, \u001b[38;5;241m*\u001b[39m\u001b[38;5;241m*\u001b[39msend_kwargs)\n\u001b[0;32m    591\u001b[0m \u001b[38;5;28;01mreturn\u001b[39;00m resp\n",
      "File \u001b[1;32m~\\anaconda3\\lib\\site-packages\\requests\\sessions.py:703\u001b[0m, in \u001b[0;36mSession.send\u001b[1;34m(self, request, **kwargs)\u001b[0m\n\u001b[0;32m    700\u001b[0m start \u001b[38;5;241m=\u001b[39m preferred_clock()\n\u001b[0;32m    702\u001b[0m \u001b[38;5;66;03m# Send the request\u001b[39;00m\n\u001b[1;32m--> 703\u001b[0m r \u001b[38;5;241m=\u001b[39m adapter\u001b[38;5;241m.\u001b[39msend(request, \u001b[38;5;241m*\u001b[39m\u001b[38;5;241m*\u001b[39mkwargs)\n\u001b[0;32m    705\u001b[0m \u001b[38;5;66;03m# Total elapsed time of the request (approximately)\u001b[39;00m\n\u001b[0;32m    706\u001b[0m elapsed \u001b[38;5;241m=\u001b[39m preferred_clock() \u001b[38;5;241m-\u001b[39m start\n",
      "File \u001b[1;32m~\\anaconda3\\lib\\site-packages\\requests\\adapters.py:667\u001b[0m, in \u001b[0;36mHTTPAdapter.send\u001b[1;34m(self, request, stream, timeout, verify, cert, proxies)\u001b[0m\n\u001b[0;32m    664\u001b[0m     timeout \u001b[38;5;241m=\u001b[39m TimeoutSauce(connect\u001b[38;5;241m=\u001b[39mtimeout, read\u001b[38;5;241m=\u001b[39mtimeout)\n\u001b[0;32m    666\u001b[0m \u001b[38;5;28;01mtry\u001b[39;00m:\n\u001b[1;32m--> 667\u001b[0m     resp \u001b[38;5;241m=\u001b[39m \u001b[43mconn\u001b[49m\u001b[38;5;241;43m.\u001b[39;49m\u001b[43murlopen\u001b[49m\u001b[43m(\u001b[49m\n\u001b[0;32m    668\u001b[0m \u001b[43m        \u001b[49m\u001b[43mmethod\u001b[49m\u001b[38;5;241;43m=\u001b[39;49m\u001b[43mrequest\u001b[49m\u001b[38;5;241;43m.\u001b[39;49m\u001b[43mmethod\u001b[49m\u001b[43m,\u001b[49m\n\u001b[0;32m    669\u001b[0m \u001b[43m        \u001b[49m\u001b[43murl\u001b[49m\u001b[38;5;241;43m=\u001b[39;49m\u001b[43murl\u001b[49m\u001b[43m,\u001b[49m\n\u001b[0;32m    670\u001b[0m \u001b[43m        \u001b[49m\u001b[43mbody\u001b[49m\u001b[38;5;241;43m=\u001b[39;49m\u001b[43mrequest\u001b[49m\u001b[38;5;241;43m.\u001b[39;49m\u001b[43mbody\u001b[49m\u001b[43m,\u001b[49m\n\u001b[0;32m    671\u001b[0m \u001b[43m        \u001b[49m\u001b[43mheaders\u001b[49m\u001b[38;5;241;43m=\u001b[39;49m\u001b[43mrequest\u001b[49m\u001b[38;5;241;43m.\u001b[39;49m\u001b[43mheaders\u001b[49m\u001b[43m,\u001b[49m\n\u001b[0;32m    672\u001b[0m \u001b[43m        \u001b[49m\u001b[43mredirect\u001b[49m\u001b[38;5;241;43m=\u001b[39;49m\u001b[38;5;28;43;01mFalse\u001b[39;49;00m\u001b[43m,\u001b[49m\n\u001b[0;32m    673\u001b[0m \u001b[43m        \u001b[49m\u001b[43massert_same_host\u001b[49m\u001b[38;5;241;43m=\u001b[39;49m\u001b[38;5;28;43;01mFalse\u001b[39;49;00m\u001b[43m,\u001b[49m\n\u001b[0;32m    674\u001b[0m \u001b[43m        \u001b[49m\u001b[43mpreload_content\u001b[49m\u001b[38;5;241;43m=\u001b[39;49m\u001b[38;5;28;43;01mFalse\u001b[39;49;00m\u001b[43m,\u001b[49m\n\u001b[0;32m    675\u001b[0m \u001b[43m        \u001b[49m\u001b[43mdecode_content\u001b[49m\u001b[38;5;241;43m=\u001b[39;49m\u001b[38;5;28;43;01mFalse\u001b[39;49;00m\u001b[43m,\u001b[49m\n\u001b[0;32m    676\u001b[0m \u001b[43m        \u001b[49m\u001b[43mretries\u001b[49m\u001b[38;5;241;43m=\u001b[39;49m\u001b[38;5;28;43mself\u001b[39;49m\u001b[38;5;241;43m.\u001b[39;49m\u001b[43mmax_retries\u001b[49m\u001b[43m,\u001b[49m\n\u001b[0;32m    677\u001b[0m \u001b[43m        \u001b[49m\u001b[43mtimeout\u001b[49m\u001b[38;5;241;43m=\u001b[39;49m\u001b[43mtimeout\u001b[49m\u001b[43m,\u001b[49m\n\u001b[0;32m    678\u001b[0m \u001b[43m        \u001b[49m\u001b[43mchunked\u001b[49m\u001b[38;5;241;43m=\u001b[39;49m\u001b[43mchunked\u001b[49m\u001b[43m,\u001b[49m\n\u001b[0;32m    679\u001b[0m \u001b[43m    \u001b[49m\u001b[43m)\u001b[49m\n\u001b[0;32m    681\u001b[0m \u001b[38;5;28;01mexcept\u001b[39;00m (ProtocolError, \u001b[38;5;167;01mOSError\u001b[39;00m) \u001b[38;5;28;01mas\u001b[39;00m err:\n\u001b[0;32m    682\u001b[0m     \u001b[38;5;28;01mraise\u001b[39;00m \u001b[38;5;167;01mConnectionError\u001b[39;00m(err, request\u001b[38;5;241m=\u001b[39mrequest)\n",
      "File \u001b[1;32m~\\anaconda3\\lib\\site-packages\\urllib3\\connectionpool.py:703\u001b[0m, in \u001b[0;36mHTTPConnectionPool.urlopen\u001b[1;34m(self, method, url, body, headers, retries, redirect, assert_same_host, timeout, pool_timeout, release_conn, chunked, body_pos, **response_kw)\u001b[0m\n\u001b[0;32m    700\u001b[0m     \u001b[38;5;28mself\u001b[39m\u001b[38;5;241m.\u001b[39m_prepare_proxy(conn)\n\u001b[0;32m    702\u001b[0m \u001b[38;5;66;03m# Make the request on the httplib connection object.\u001b[39;00m\n\u001b[1;32m--> 703\u001b[0m httplib_response \u001b[38;5;241m=\u001b[39m \u001b[38;5;28;43mself\u001b[39;49m\u001b[38;5;241;43m.\u001b[39;49m\u001b[43m_make_request\u001b[49m\u001b[43m(\u001b[49m\n\u001b[0;32m    704\u001b[0m \u001b[43m    \u001b[49m\u001b[43mconn\u001b[49m\u001b[43m,\u001b[49m\n\u001b[0;32m    705\u001b[0m \u001b[43m    \u001b[49m\u001b[43mmethod\u001b[49m\u001b[43m,\u001b[49m\n\u001b[0;32m    706\u001b[0m \u001b[43m    \u001b[49m\u001b[43murl\u001b[49m\u001b[43m,\u001b[49m\n\u001b[0;32m    707\u001b[0m \u001b[43m    \u001b[49m\u001b[43mtimeout\u001b[49m\u001b[38;5;241;43m=\u001b[39;49m\u001b[43mtimeout_obj\u001b[49m\u001b[43m,\u001b[49m\n\u001b[0;32m    708\u001b[0m \u001b[43m    \u001b[49m\u001b[43mbody\u001b[49m\u001b[38;5;241;43m=\u001b[39;49m\u001b[43mbody\u001b[49m\u001b[43m,\u001b[49m\n\u001b[0;32m    709\u001b[0m \u001b[43m    \u001b[49m\u001b[43mheaders\u001b[49m\u001b[38;5;241;43m=\u001b[39;49m\u001b[43mheaders\u001b[49m\u001b[43m,\u001b[49m\n\u001b[0;32m    710\u001b[0m \u001b[43m    \u001b[49m\u001b[43mchunked\u001b[49m\u001b[38;5;241;43m=\u001b[39;49m\u001b[43mchunked\u001b[49m\u001b[43m,\u001b[49m\n\u001b[0;32m    711\u001b[0m \u001b[43m\u001b[49m\u001b[43m)\u001b[49m\n\u001b[0;32m    713\u001b[0m \u001b[38;5;66;03m# If we're going to release the connection in ``finally:``, then\u001b[39;00m\n\u001b[0;32m    714\u001b[0m \u001b[38;5;66;03m# the response doesn't need to know about the connection. Otherwise\u001b[39;00m\n\u001b[0;32m    715\u001b[0m \u001b[38;5;66;03m# it will also try to release it and we'll have a double-release\u001b[39;00m\n\u001b[0;32m    716\u001b[0m \u001b[38;5;66;03m# mess.\u001b[39;00m\n\u001b[0;32m    717\u001b[0m response_conn \u001b[38;5;241m=\u001b[39m conn \u001b[38;5;28;01mif\u001b[39;00m \u001b[38;5;129;01mnot\u001b[39;00m release_conn \u001b[38;5;28;01melse\u001b[39;00m \u001b[38;5;28;01mNone\u001b[39;00m\n",
      "File \u001b[1;32m~\\anaconda3\\lib\\site-packages\\urllib3\\connectionpool.py:449\u001b[0m, in \u001b[0;36mHTTPConnectionPool._make_request\u001b[1;34m(self, conn, method, url, timeout, chunked, **httplib_request_kw)\u001b[0m\n\u001b[0;32m    444\u001b[0m             httplib_response \u001b[38;5;241m=\u001b[39m conn\u001b[38;5;241m.\u001b[39mgetresponse()\n\u001b[0;32m    445\u001b[0m         \u001b[38;5;28;01mexcept\u001b[39;00m \u001b[38;5;167;01mBaseException\u001b[39;00m \u001b[38;5;28;01mas\u001b[39;00m e:\n\u001b[0;32m    446\u001b[0m             \u001b[38;5;66;03m# Remove the TypeError from the exception chain in\u001b[39;00m\n\u001b[0;32m    447\u001b[0m             \u001b[38;5;66;03m# Python 3 (including for exceptions like SystemExit).\u001b[39;00m\n\u001b[0;32m    448\u001b[0m             \u001b[38;5;66;03m# Otherwise it looks like a bug in the code.\u001b[39;00m\n\u001b[1;32m--> 449\u001b[0m             \u001b[43msix\u001b[49m\u001b[38;5;241;43m.\u001b[39;49m\u001b[43mraise_from\u001b[49m\u001b[43m(\u001b[49m\u001b[43me\u001b[49m\u001b[43m,\u001b[49m\u001b[43m \u001b[49m\u001b[38;5;28;43;01mNone\u001b[39;49;00m\u001b[43m)\u001b[49m\n\u001b[0;32m    450\u001b[0m \u001b[38;5;28;01mexcept\u001b[39;00m (SocketTimeout, BaseSSLError, SocketError) \u001b[38;5;28;01mas\u001b[39;00m e:\n\u001b[0;32m    451\u001b[0m     \u001b[38;5;28mself\u001b[39m\u001b[38;5;241m.\u001b[39m_raise_timeout(err\u001b[38;5;241m=\u001b[39me, url\u001b[38;5;241m=\u001b[39murl, timeout_value\u001b[38;5;241m=\u001b[39mread_timeout)\n",
      "File \u001b[1;32m<string>:3\u001b[0m, in \u001b[0;36mraise_from\u001b[1;34m(value, from_value)\u001b[0m\n",
      "File \u001b[1;32m~\\anaconda3\\lib\\site-packages\\urllib3\\connectionpool.py:444\u001b[0m, in \u001b[0;36mHTTPConnectionPool._make_request\u001b[1;34m(self, conn, method, url, timeout, chunked, **httplib_request_kw)\u001b[0m\n\u001b[0;32m    441\u001b[0m \u001b[38;5;28;01mexcept\u001b[39;00m \u001b[38;5;167;01mTypeError\u001b[39;00m:\n\u001b[0;32m    442\u001b[0m     \u001b[38;5;66;03m# Python 3\u001b[39;00m\n\u001b[0;32m    443\u001b[0m     \u001b[38;5;28;01mtry\u001b[39;00m:\n\u001b[1;32m--> 444\u001b[0m         httplib_response \u001b[38;5;241m=\u001b[39m \u001b[43mconn\u001b[49m\u001b[38;5;241;43m.\u001b[39;49m\u001b[43mgetresponse\u001b[49m\u001b[43m(\u001b[49m\u001b[43m)\u001b[49m\n\u001b[0;32m    445\u001b[0m     \u001b[38;5;28;01mexcept\u001b[39;00m \u001b[38;5;167;01mBaseException\u001b[39;00m \u001b[38;5;28;01mas\u001b[39;00m e:\n\u001b[0;32m    446\u001b[0m         \u001b[38;5;66;03m# Remove the TypeError from the exception chain in\u001b[39;00m\n\u001b[0;32m    447\u001b[0m         \u001b[38;5;66;03m# Python 3 (including for exceptions like SystemExit).\u001b[39;00m\n\u001b[0;32m    448\u001b[0m         \u001b[38;5;66;03m# Otherwise it looks like a bug in the code.\u001b[39;00m\n\u001b[0;32m    449\u001b[0m         six\u001b[38;5;241m.\u001b[39mraise_from(e, \u001b[38;5;28;01mNone\u001b[39;00m)\n",
      "File \u001b[1;32m~\\anaconda3\\lib\\http\\client.py:1377\u001b[0m, in \u001b[0;36mHTTPConnection.getresponse\u001b[1;34m(self)\u001b[0m\n\u001b[0;32m   1375\u001b[0m \u001b[38;5;28;01mtry\u001b[39;00m:\n\u001b[0;32m   1376\u001b[0m     \u001b[38;5;28;01mtry\u001b[39;00m:\n\u001b[1;32m-> 1377\u001b[0m         \u001b[43mresponse\u001b[49m\u001b[38;5;241;43m.\u001b[39;49m\u001b[43mbegin\u001b[49m\u001b[43m(\u001b[49m\u001b[43m)\u001b[49m\n\u001b[0;32m   1378\u001b[0m     \u001b[38;5;28;01mexcept\u001b[39;00m \u001b[38;5;167;01mConnectionError\u001b[39;00m:\n\u001b[0;32m   1379\u001b[0m         \u001b[38;5;28mself\u001b[39m\u001b[38;5;241m.\u001b[39mclose()\n",
      "File \u001b[1;32m~\\anaconda3\\lib\\http\\client.py:320\u001b[0m, in \u001b[0;36mHTTPResponse.begin\u001b[1;34m(self)\u001b[0m\n\u001b[0;32m    318\u001b[0m \u001b[38;5;66;03m# read until we get a non-100 response\u001b[39;00m\n\u001b[0;32m    319\u001b[0m \u001b[38;5;28;01mwhile\u001b[39;00m \u001b[38;5;28;01mTrue\u001b[39;00m:\n\u001b[1;32m--> 320\u001b[0m     version, status, reason \u001b[38;5;241m=\u001b[39m \u001b[38;5;28;43mself\u001b[39;49m\u001b[38;5;241;43m.\u001b[39;49m\u001b[43m_read_status\u001b[49m\u001b[43m(\u001b[49m\u001b[43m)\u001b[49m\n\u001b[0;32m    321\u001b[0m     \u001b[38;5;28;01mif\u001b[39;00m status \u001b[38;5;241m!=\u001b[39m CONTINUE:\n\u001b[0;32m    322\u001b[0m         \u001b[38;5;28;01mbreak\u001b[39;00m\n",
      "File \u001b[1;32m~\\anaconda3\\lib\\http\\client.py:281\u001b[0m, in \u001b[0;36mHTTPResponse._read_status\u001b[1;34m(self)\u001b[0m\n\u001b[0;32m    280\u001b[0m \u001b[38;5;28;01mdef\u001b[39;00m \u001b[38;5;21m_read_status\u001b[39m(\u001b[38;5;28mself\u001b[39m):\n\u001b[1;32m--> 281\u001b[0m     line \u001b[38;5;241m=\u001b[39m \u001b[38;5;28mstr\u001b[39m(\u001b[38;5;28;43mself\u001b[39;49m\u001b[38;5;241;43m.\u001b[39;49m\u001b[43mfp\u001b[49m\u001b[38;5;241;43m.\u001b[39;49m\u001b[43mreadline\u001b[49m\u001b[43m(\u001b[49m\u001b[43m_MAXLINE\u001b[49m\u001b[43m \u001b[49m\u001b[38;5;241;43m+\u001b[39;49m\u001b[43m \u001b[49m\u001b[38;5;241;43m1\u001b[39;49m\u001b[43m)\u001b[49m, \u001b[38;5;124m\"\u001b[39m\u001b[38;5;124miso-8859-1\u001b[39m\u001b[38;5;124m\"\u001b[39m)\n\u001b[0;32m    282\u001b[0m     \u001b[38;5;28;01mif\u001b[39;00m \u001b[38;5;28mlen\u001b[39m(line) \u001b[38;5;241m>\u001b[39m _MAXLINE:\n\u001b[0;32m    283\u001b[0m         \u001b[38;5;28;01mraise\u001b[39;00m LineTooLong(\u001b[38;5;124m\"\u001b[39m\u001b[38;5;124mstatus line\u001b[39m\u001b[38;5;124m\"\u001b[39m)\n",
      "File \u001b[1;32m~\\anaconda3\\lib\\socket.py:704\u001b[0m, in \u001b[0;36mSocketIO.readinto\u001b[1;34m(self, b)\u001b[0m\n\u001b[0;32m    702\u001b[0m \u001b[38;5;28;01mwhile\u001b[39;00m \u001b[38;5;28;01mTrue\u001b[39;00m:\n\u001b[0;32m    703\u001b[0m     \u001b[38;5;28;01mtry\u001b[39;00m:\n\u001b[1;32m--> 704\u001b[0m         \u001b[38;5;28;01mreturn\u001b[39;00m \u001b[38;5;28;43mself\u001b[39;49m\u001b[38;5;241;43m.\u001b[39;49m\u001b[43m_sock\u001b[49m\u001b[38;5;241;43m.\u001b[39;49m\u001b[43mrecv_into\u001b[49m\u001b[43m(\u001b[49m\u001b[43mb\u001b[49m\u001b[43m)\u001b[49m\n\u001b[0;32m    705\u001b[0m     \u001b[38;5;28;01mexcept\u001b[39;00m timeout:\n\u001b[0;32m    706\u001b[0m         \u001b[38;5;28mself\u001b[39m\u001b[38;5;241m.\u001b[39m_timeout_occurred \u001b[38;5;241m=\u001b[39m \u001b[38;5;28;01mTrue\u001b[39;00m\n",
      "\u001b[1;31mKeyboardInterrupt\u001b[0m: "
     ]
    }
   ],
   "source": [
    "import torch\n",
    "import librosa\n",
    "import threading\n",
    "import time\n",
    "import geocoder\n",
    "from geopy.geocoders import Nominatim  # Import Nominatim properly\n",
    "import requests\n",
    "from pydub import AudioSegment\n",
    "from pydub.playback import play\n",
    "from twilio.rest import Client\n",
    "from transformers import Wav2Vec2Processor, Wav2Vec2ForSequenceClassification\n",
    "import sounddevice as sd\n",
    "import numpy as np\n",
    "import wave\n",
    "import noisereduce as nr \n",
    "# Install with: pip install noisereduce\n",
    "\n",
    "def get_coordinates(place_name):\n",
    "    geolocator = Nominatim(user_agent=\"your_app_name\")  # Set a user-agent\n",
    "    location = geolocator.geocode(place_name)\n",
    "    \n",
    "    if location:\n",
    "        return (location.latitude, location.longitude)\n",
    "    else:\n",
    "        return None\n",
    "    \n",
    "\n",
    "\n",
    "# ------------------- CONFIG -------------------\n",
    "# Twilio Credentials\n",
    "ACCOUNT_SID = \"AC37965b7adf6eea30841c41fe571d0cb2\"\n",
    "AUTH_TOKEN = \"2b97c6cc1df545c033f4388f3e3c524e\"\n",
    "TWILIO_PHONE_NUMBER = \"+12185155312\"\n",
    "TO_PHONE_NUMBER = \"+918971754654\"\n",
    "\n",
    "# GraphHopper API Key\n",
    "GRAPHHOPPER_API_KEY = \"0dda774a-d9af-4c81-84f0-b1b866609dbc\"\n",
    "\n",
    "# Security Code (User Input)\n",
    "CORRECT_CODE = input(\"Set your security code: \")\n",
    "\n",
    "# Voice Model\n",
    "model_name = \"facebook/wav2vec2-base\"  \n",
    "processor = Wav2Vec2Processor.from_pretrained(model_name)\n",
    "model = Wav2Vec2ForSequenceClassification.from_pretrained(model_name)\n",
    "\n",
    "# Audio File (Alert Sound)\n",
    "ALERT_SOUND = \"alarm.wav\"  # Replace with your alert sound\n",
    "alert_sound = AudioSegment.from_wav(ALERT_SOUND)\n",
    "\n",
    "# Tracking\n",
    "# User input\n",
    "place = input(\"Enter a location: \")\n",
    "coordinates = get_coordinates(place)\n",
    "\n",
    "if coordinates:\n",
    "    print(f\"Coordinates of {place}: {coordinates}\")\n",
    "else:\n",
    "    print(\"Location not found.\")\n",
    "\n",
    "playing = False  # Control audio playback\n",
    "\n",
    "# ------------------- FUNCTIONS -------------------\n",
    "def play_audio():\n",
    "    \"\"\"Play alert sound.\"\"\"\n",
    "    global playing\n",
    "    playing = True\n",
    "    while playing:\n",
    "        play(alert_sound)\n",
    "\n",
    "def get_current_location():\n",
    "    \"\"\"Get user's approximate GPS coordinates.\"\"\"\n",
    "    g = geocoder.ip('me')\n",
    "    return g.latlng if g.latlng else (None, None)\n",
    "\n",
    "def check_path_exists(start_coords, end_coords):\n",
    "    \"\"\"Check if a path exists using GraphHopper API.\"\"\"\n",
    "    url = f\"https://graphhopper.com/api/1/route?point={start_coords[0]},{start_coords[1]}&point={end_coords[0]},{end_coords[1]}&vehicle=car&key={GRAPHHOPPER_API_KEY}\"\n",
    "    response = requests.get(url).json()\n",
    "    return \"paths\" in response and len(response[\"paths\"]) > 0\n",
    "\n",
    "def denoise_audio(waveform, sample_rate):\n",
    "    \"\"\"Apply noise reduction to the audio waveform.\"\"\"\n",
    "    waveform = waveform.flatten().numpy()  # Convert tensor to NumPy array\n",
    "    reduced_noise = nr.reduce_noise(y=waveform, sr=sample_rate)\n",
    "    return torch.tensor(reduced_noise).unsqueeze(0)  # Convert back to tensor\n",
    "\n",
    "def record_voice(file_name=\"recorded_voice.wav\", duration=3, sr=16000):\n",
    "    \"\"\"Record user's voice, denoise it, and save the file.\"\"\"\n",
    "    print(\"🎤 Recording voice...\")\n",
    "    audio = sd.rec(int(duration * sr), samplerate=sr, channels=1, dtype=np.float32)\n",
    "    sd.wait()\n",
    "\n",
    "    # Apply denoising\n",
    "    audio = denoise_audio(torch.tensor(audio.T), sr)\n",
    "\n",
    "    wave_file = wave.open(file_name, \"wb\")\n",
    "    wave_file.setnchannels(1)\n",
    "    wave_file.setsampwidth(2)\n",
    "    wave_file.setframerate(sr)\n",
    "    wave_file.writeframes(audio.numpy().astype(np.int16).tobytes())\n",
    "    wave_file.close()\n",
    "\n",
    "    print(\"✅ Denoised voice recorded.\")\n",
    "    return file_name\n",
    "\n",
    "def verify_voice(file_path):\n",
    "    \"\"\"Verify the recorded voice against a trained model.\"\"\"\n",
    "    y, sr = librosa.load(file_path, sr=16000)\n",
    "    inputs = processor(y, sampling_rate=16000, return_tensors=\"pt\", padding=True)\n",
    "\n",
    "    with torch.no_grad():\n",
    "        logits = model(inputs.input_values).logits\n",
    "\n",
    "    return torch.argmax(logits, dim=-1).item() == 1  # Assuming class 1 is the user\n",
    "\n",
    "def send_alert():\n",
    "    \"\"\"Send SMS alert via Twilio and start audio recording.\"\"\"\n",
    "    client = Client(ACCOUNT_SID, AUTH_TOKEN)\n",
    "    try:\n",
    "        message = client.messages.create(\n",
    "            body=\"🚨 DANGER! Verification failed. Immediate action required.\",\n",
    "            from_=TWILIO_PHONE_NUMBER,\n",
    "            to=TO_PHONE_NUMBER\n",
    "        )\n",
    "        print(f\"🚨 SMS Alert Sent! SID: {message.sid}\")\n",
    "    except Exception as e:\n",
    "        print(f\"⚠️ Error sending SMS: {e}\")\n",
    "    \n",
    "    # Start recording evidence audio after alert\n",
    "    print(\"🎤 Recording emergency audio...\")\n",
    "    record_voice(\"emergency_recording.wav\", duration=10)  # 10-second recording\n",
    "    print(\"✅ Emergency recording saved.\")\n",
    "\n",
    "def verification():\n",
    "    \"\"\"Perform verification using code and voice.\"\"\"\n",
    "    global playing\n",
    "\n",
    "    for attempt in range(3):\n",
    "        # Play alert sound in a separate thread\n",
    "        audio_thread = threading.Thread(target=play_audio, daemon=True)\n",
    "        audio_thread.start()\n",
    "\n",
    "        # Ask for security code\n",
    "        code = input(\"\\nEnter security code: \")\n",
    "        if code != CORRECT_CODE:\n",
    "            print(\"❌ Incorrect code!\")\n",
    "            continue\n",
    "\n",
    "        # Record and verify voice\n",
    "        voice_file = record_voice()\n",
    "        if not verify_voice(voice_file):\n",
    "            print(\"❌ Voice mismatch!\")\n",
    "            continue\n",
    "\n",
    "        # If both are correct, stop alarm\n",
    "        print(\"✅ Verification successful. Stopping alert.\")\n",
    "        playing = False\n",
    "        return\n",
    "\n",
    "    # If all 3 attempts fail, send alert\n",
    "    print(\"❌ Verification failed 3 times! Sending alert...\")\n",
    "    send_alert()\n",
    "\n",
    "def track_location():\n",
    "    \"\"\"Track user's location, check for path, and trigger verification if needed.\"\"\"\n",
    "    last_location = get_current_location()\n",
    "    if last_location == (None, None):\n",
    "        print(\"❌ Could not get current location. Exiting...\")\n",
    "        return\n",
    "\n",
    "    print(f\"Tracking started at location: {last_location}\")\n",
    "    start_time = time.time()\n",
    "    verification_timer = start_time  # Timer for periodic verification\n",
    "\n",
    "    while True:\n",
    "        time.sleep(1)  # Check location every second\n",
    "        current_location = get_current_location()\n",
    "\n",
    "        # Check if path exists\n",
    "        if not check_path_exists(current_location, coordinates):\n",
    "            print(\"❌ Path Not Found!\")\n",
    "            continue  # Skip verification if path does not exist\n",
    "\n",
    "        # Check if the user has been stationary for 10 seconds\n",
    "        if current_location == last_location:\n",
    "            elapsed_time = time.time() - start_time\n",
    "            if elapsed_time >= 10:\n",
    "                print(\"🚨 Person stationary for 10 seconds. Starting verification!\")\n",
    "                verification()\n",
    "                start_time = time.time()  # Reset timer\n",
    "\n",
    "        else:\n",
    "            last_location = current_location\n",
    "            start_time = time.time()  # Reset stationary timer\n",
    "\n",
    "        # Trigger verification every 20 seconds\n",
    "        if time.time() - verification_timer >= 20:\n",
    "            print(\"⏳ Time-based verification started...\")\n",
    "            verification()\n",
    "            verification_timer = time.time()  # Reset verification timer\n",
    "\n",
    "        # If user is unresponsive for 1 minute, send an alert\n",
    "        if time.time() - start_time >= 60:\n",
    "            print(\"⏳ User unresponsive for 1 minute! Sending alert...\")\n",
    "            send_alert()\n",
    "            break\n",
    "\n",
    "# ------------------- START TRACKING -------------------\n",
    "track_location()\n"
   ]
  },
  {
   "cell_type": "code",
   "execution_count": null,
   "id": "3f85285a",
   "metadata": {},
   "outputs": [],
   "source": []
  },
  {
   "cell_type": "code",
   "execution_count": null,
   "id": "9157f182",
   "metadata": {},
   "outputs": [],
   "source": []
  },
  {
   "cell_type": "code",
   "execution_count": null,
   "id": "1e34baef",
   "metadata": {},
   "outputs": [],
   "source": []
  }
 ],
 "metadata": {
  "kernelspec": {
   "display_name": "Python 3 (ipykernel)",
   "language": "python",
   "name": "python3"
  },
  "language_info": {
   "codemirror_mode": {
    "name": "ipython",
    "version": 3
   },
   "file_extension": ".py",
   "mimetype": "text/x-python",
   "name": "python",
   "nbconvert_exporter": "python",
   "pygments_lexer": "ipython3",
   "version": "3.9.12"
  }
 },
 "nbformat": 4,
 "nbformat_minor": 5
}
